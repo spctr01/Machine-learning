{
  "nbformat": 4,
  "nbformat_minor": 0,
  "metadata": {
    "colab": {
      "name": "evalution.ipynb",
      "provenance": [],
      "authorship_tag": "ABX9TyPvwDBBkKL+e+TeI+s+vGVF",
      "include_colab_link": true
    },
    "kernelspec": {
      "name": "python3",
      "display_name": "Python 3"
    }
  },
  "cells": [
    {
      "cell_type": "markdown",
      "metadata": {
        "id": "view-in-github",
        "colab_type": "text"
      },
      "source": [
        "<a href=\"https://colab.research.google.com/github/spctr01/Machine-learning/blob/master/evalution.ipynb\" target=\"_parent\"><img src=\"https://colab.research.google.com/assets/colab-badge.svg\" alt=\"Open In Colab\"/></a>"
      ]
    },
    {
      "cell_type": "markdown",
      "metadata": {
        "id": "FzWi93zqNjw0",
        "colab_type": "text"
      },
      "source": [
        "# Evalution\n"
      ]
    },
    {
      "cell_type": "markdown",
      "metadata": {
        "id": "KJoPp_YtN2D1",
        "colab_type": "text"
      },
      "source": [
        "# classification evaluation metrix\n",
        "\n",
        "*   Accuracy\n",
        "*   Area under ROC curve (ROC/AUC)\n",
        "*   Confusion Metrix\n",
        "*   Classification report\n",
        "\n",
        "\n",
        "\n",
        "\n"
      ]
    },
    {
      "cell_type": "code",
      "metadata": {
        "id": "Sc4kP9MMNify",
        "colab_type": "code",
        "colab": {
          "base_uri": "https://localhost:8080/",
          "height": 206
        },
        "outputId": "59c1867d-55cb-4710-9cc0-bf3971323caf"
      },
      "source": [
        "import numpy as np\n",
        "import pandas as pd\n",
        "data = pd.read_csv('heart-disease.csv')\n",
        "data.head()"
      ],
      "execution_count": 7,
      "outputs": [
        {
          "output_type": "execute_result",
          "data": {
            "text/html": [
              "<div>\n",
              "<style scoped>\n",
              "    .dataframe tbody tr th:only-of-type {\n",
              "        vertical-align: middle;\n",
              "    }\n",
              "\n",
              "    .dataframe tbody tr th {\n",
              "        vertical-align: top;\n",
              "    }\n",
              "\n",
              "    .dataframe thead th {\n",
              "        text-align: right;\n",
              "    }\n",
              "</style>\n",
              "<table border=\"1\" class=\"dataframe\">\n",
              "  <thead>\n",
              "    <tr style=\"text-align: right;\">\n",
              "      <th></th>\n",
              "      <th>age</th>\n",
              "      <th>sex</th>\n",
              "      <th>cp</th>\n",
              "      <th>trestbps</th>\n",
              "      <th>chol</th>\n",
              "      <th>fbs</th>\n",
              "      <th>restecg</th>\n",
              "      <th>thalach</th>\n",
              "      <th>exang</th>\n",
              "      <th>oldpeak</th>\n",
              "      <th>slope</th>\n",
              "      <th>ca</th>\n",
              "      <th>thal</th>\n",
              "      <th>target</th>\n",
              "    </tr>\n",
              "  </thead>\n",
              "  <tbody>\n",
              "    <tr>\n",
              "      <th>0</th>\n",
              "      <td>63</td>\n",
              "      <td>1</td>\n",
              "      <td>3</td>\n",
              "      <td>145</td>\n",
              "      <td>233</td>\n",
              "      <td>1</td>\n",
              "      <td>0</td>\n",
              "      <td>150</td>\n",
              "      <td>0</td>\n",
              "      <td>2.3</td>\n",
              "      <td>0</td>\n",
              "      <td>0</td>\n",
              "      <td>1</td>\n",
              "      <td>1</td>\n",
              "    </tr>\n",
              "    <tr>\n",
              "      <th>1</th>\n",
              "      <td>37</td>\n",
              "      <td>1</td>\n",
              "      <td>2</td>\n",
              "      <td>130</td>\n",
              "      <td>250</td>\n",
              "      <td>0</td>\n",
              "      <td>1</td>\n",
              "      <td>187</td>\n",
              "      <td>0</td>\n",
              "      <td>3.5</td>\n",
              "      <td>0</td>\n",
              "      <td>0</td>\n",
              "      <td>2</td>\n",
              "      <td>1</td>\n",
              "    </tr>\n",
              "    <tr>\n",
              "      <th>2</th>\n",
              "      <td>41</td>\n",
              "      <td>0</td>\n",
              "      <td>1</td>\n",
              "      <td>130</td>\n",
              "      <td>204</td>\n",
              "      <td>0</td>\n",
              "      <td>0</td>\n",
              "      <td>172</td>\n",
              "      <td>0</td>\n",
              "      <td>1.4</td>\n",
              "      <td>2</td>\n",
              "      <td>0</td>\n",
              "      <td>2</td>\n",
              "      <td>1</td>\n",
              "    </tr>\n",
              "    <tr>\n",
              "      <th>3</th>\n",
              "      <td>56</td>\n",
              "      <td>1</td>\n",
              "      <td>1</td>\n",
              "      <td>120</td>\n",
              "      <td>236</td>\n",
              "      <td>0</td>\n",
              "      <td>1</td>\n",
              "      <td>178</td>\n",
              "      <td>0</td>\n",
              "      <td>0.8</td>\n",
              "      <td>2</td>\n",
              "      <td>0</td>\n",
              "      <td>2</td>\n",
              "      <td>1</td>\n",
              "    </tr>\n",
              "    <tr>\n",
              "      <th>4</th>\n",
              "      <td>57</td>\n",
              "      <td>0</td>\n",
              "      <td>0</td>\n",
              "      <td>120</td>\n",
              "      <td>354</td>\n",
              "      <td>0</td>\n",
              "      <td>1</td>\n",
              "      <td>163</td>\n",
              "      <td>1</td>\n",
              "      <td>0.6</td>\n",
              "      <td>2</td>\n",
              "      <td>0</td>\n",
              "      <td>2</td>\n",
              "      <td>1</td>\n",
              "    </tr>\n",
              "  </tbody>\n",
              "</table>\n",
              "</div>"
            ],
            "text/plain": [
              "   age  sex  cp  trestbps  chol  fbs  ...  exang  oldpeak  slope  ca  thal  target\n",
              "0   63    1   3       145   233    1  ...      0      2.3      0   0     1       1\n",
              "1   37    1   2       130   250    0  ...      0      3.5      0   0     2       1\n",
              "2   41    0   1       130   204    0  ...      0      1.4      2   0     2       1\n",
              "3   56    1   1       120   236    0  ...      0      0.8      2   0     2       1\n",
              "4   57    0   0       120   354    0  ...      1      0.6      2   0     2       1\n",
              "\n",
              "[5 rows x 14 columns]"
            ]
          },
          "metadata": {
            "tags": []
          },
          "execution_count": 7
        }
      ]
    },
    {
      "cell_type": "markdown",
      "metadata": {
        "id": "Vk_eey_1CweJ",
        "colab_type": "text"
      },
      "source": [
        "**1.Accuracy**"
      ]
    },
    {
      "cell_type": "code",
      "metadata": {
        "id": "qIjnwS3saFuA",
        "colab_type": "code",
        "colab": {
          "base_uri": "https://localhost:8080/",
          "height": 56
        },
        "outputId": "f8cc7aa1-fa58-4324-cc58-766ff749c496"
      },
      "source": [
        "# 1. Accuracy\n",
        "from sklearn.model_selection import cross_val_score\n",
        "from sklearn.ensemble import RandomForestClassifier\n",
        "\n",
        "X = data.drop('target', axis = 1)\n",
        "Y = data['target']\n",
        "\n",
        "model = RandomForestClassifier()\n",
        "model.fit(X,Y)\n",
        "clv =cross_val_score(model, X, Y, cv=5 )\n",
        "print(clv)\n",
        "\n",
        "np.mean(clv)"
      ],
      "execution_count": 10,
      "outputs": [
        {
          "output_type": "stream",
          "text": [
            "[0.80327869 0.90163934 0.78688525 0.83333333 0.8       ]\n"
          ],
          "name": "stdout"
        },
        {
          "output_type": "execute_result",
          "data": {
            "text/plain": [
              "0.8250273224043717"
            ]
          },
          "metadata": {
            "tags": []
          },
          "execution_count": 10
        }
      ]
    },
    {
      "cell_type": "markdown",
      "metadata": {
        "id": "KP-ZXu-uC4S1",
        "colab_type": "text"
      },
      "source": [
        "**2.ROC CURVE**"
      ]
    },
    {
      "cell_type": "code",
      "metadata": {
        "id": "M6_RKDHScYet",
        "colab_type": "code",
        "colab": {
          "base_uri": "https://localhost:8080/",
          "height": 211
        },
        "outputId": "91fbbfd7-bba6-4eaa-9b3a-d76d80520c9f"
      },
      "source": [
        "# ROC area under receiver operative characterstic (ROC/AUC)\n",
        "# roc = comparison of models true positive vs flase positive tpr vs fpr\n",
        "\n",
        "# true_positive = predicted 1 for 1\n",
        "# false positive = predicted 1 for 0\n",
        "# true negative = predicted 0 for 0\n",
        "# false negative = predicted 0 for 1\n",
        "\n",
        "from sklearn.metrics import roc_curve\n",
        "from sklearn.model_selection import train_test_split\n",
        "\n",
        "#splitting data to train and test\n",
        "x_train, x_test, y_train, y_test = train_test_split(X, Y, test_size = 0.2)\n",
        "\n",
        "#fitting data to model\n",
        "model.fit(x_train, y_train)\n",
        "\n",
        "pred = model.predict_proba(x_test)\n",
        "pred[:10]"
      ],
      "execution_count": 70,
      "outputs": [
        {
          "output_type": "execute_result",
          "data": {
            "text/plain": [
              "array([[0.02, 0.98],\n",
              "       [0.29, 0.71],\n",
              "       [0.57, 0.43],\n",
              "       [0.48, 0.52],\n",
              "       [0.21, 0.79],\n",
              "       [0.08, 0.92],\n",
              "       [0.97, 0.03],\n",
              "       [0.63, 0.37],\n",
              "       [0.73, 0.27],\n",
              "       [0.18, 0.82]])"
            ]
          },
          "metadata": {
            "tags": []
          },
          "execution_count": 70
        }
      ]
    },
    {
      "cell_type": "code",
      "metadata": {
        "id": "yREu8rr8xS2_",
        "colab_type": "code",
        "colab": {
          "base_uri": "https://localhost:8080/",
          "height": 133
        },
        "outputId": "7d855599-a66a-43bd-f06c-c7cf3583406d"
      },
      "source": [
        "# Roc curve is true+ vs false+ so take the second column of the predict probabelity (which is of 1) and exclude first\n",
        "posetive = pred[:,1]\n",
        "\n",
        "# predict roc curve tpr fpr and thresholds\n",
        "\n",
        "fpr, tpr, thresholds = roc_curve(y_test, posetive)\n",
        "tpr"
      ],
      "execution_count": 58,
      "outputs": [
        {
          "output_type": "execute_result",
          "data": {
            "text/plain": [
              "array([0.        , 0.03030303, 0.09090909, 0.15151515, 0.18181818,\n",
              "       0.24242424, 0.39393939, 0.45454545, 0.48484848, 0.54545455,\n",
              "       0.60606061, 0.60606061, 0.66666667, 0.6969697 , 0.72727273,\n",
              "       0.78787879, 0.78787879, 0.84848485, 0.87878788, 0.87878788,\n",
              "       0.87878788, 0.90909091, 0.90909091, 0.96969697, 0.96969697,\n",
              "       1.        , 1.        , 1.        ])"
            ]
          },
          "metadata": {
            "tags": []
          },
          "execution_count": 58
        }
      ]
    },
    {
      "cell_type": "code",
      "metadata": {
        "id": "iOWDAkCA9HdL",
        "colab_type": "code",
        "colab": {
          "base_uri": "https://localhost:8080/",
          "height": 360
        },
        "outputId": "ecf1ae28-6162-46f7-833e-7cc9f7e36b2f"
      },
      "source": [
        "#visualise roc curve\n",
        "import matplotlib.pyplot as plt\n",
        "\n",
        "#create a function to plot a curve\n",
        "def plot_roc(fpr, tpr):\n",
        "\n",
        "  plt.figure(figsize=(9,5) )\n",
        "  plt.plot(fpr, tpr, color= 'red', label='ROC')\n",
        "  plt.plot([0,1], [0,1], color = 'cyan', linestyle = '--', label= 'guess')\n",
        "  \n",
        "  plt.xlabel('True posetive rate' )\n",
        "  plt.ylabel('Flase posetive rate')\n",
        "\n",
        "\n",
        "  plt.legend()\n",
        "  plt.show()\n",
        "\n",
        "plot_roc(fpr, tpr)"
      ],
      "execution_count": 101,
      "outputs": [
        {
          "output_type": "display_data",
          "data": {
            "image/png": "[encoded data removed]",
            "text/plain": [
              "<Figure size 648x360 with 1 Axes>"
            ]
          },
          "metadata": {
            "tags": []
          }
        }
      ]
    },
    {
      "cell_type": "code",
      "metadata": {
        "id": "MTnio-1N_mQI",
        "colab_type": "code",
        "colab": {
          "base_uri": "https://localhost:8080/",
          "height": 36
        },
        "outputId": "48722c08-1837-4b07-97e2-ca91e72a8c57"
      },
      "source": [
        "from sklearn.metrics import roc_auc_score\n",
        "roc_auc_score(y_test, posetive)\n"
      ],
      "execution_count": 66,
      "outputs": [
        {
          "output_type": "execute_result",
          "data": {
            "text/plain": [
              "0.8706709956709957"
            ]
          },
          "metadata": {
            "tags": []
          },
          "execution_count": 66
        }
      ]
    },
    {
      "cell_type": "markdown",
      "metadata": {
        "id": "Qbr0qy2SEv9e",
        "colab_type": "text"
      },
      "source": [
        "**3.CONFUSION METRIX**"
      ]
    },
    {
      "cell_type": "code",
      "metadata": {
        "id": "DNUdSW3bEuVN",
        "colab_type": "code",
        "colab": {
          "base_uri": "https://localhost:8080/",
          "height": 56
        },
        "outputId": "197e9ac9-1437-49b2-8f31-20176f1c34b0"
      },
      "source": [
        "from sklearn.metrics import confusion_matrix\n",
        "\n",
        "pred = model.predict(x_test)\n",
        "conf_mat = confusion_matrix(y_test, pred)\n",
        "conf_mat"
      ],
      "execution_count": 103,
      "outputs": [
        {
          "output_type": "execute_result",
          "data": {
            "text/plain": [
              "array([[15,  2],\n",
              "       [10, 34]])"
            ]
          },
          "metadata": {
            "tags": []
          },
          "execution_count": 103
        }
      ]
    },
    {
      "cell_type": "code",
      "metadata": {
        "id": "mc7gW6poJoMH",
        "colab_type": "code",
        "colab": {
          "base_uri": "https://localhost:8080/",
          "height": 325
        },
        "outputId": "a5a2db17-06bf-4b6c-f6b5-aa29b17ea490"
      },
      "source": [
        "#visualise confusion matrix with seaborn heat map\n",
        "import seaborn as sns\n",
        "sns.set(font_scale = 2)\n",
        "sns.heatmap(conf_mat, annot = True, cbar= False)\n",
        "plt.xlabel('True')\n",
        "plt.ylabel('Predicted')"
      ],
      "execution_count": 100,
      "outputs": [
        {
          "output_type": "execute_result",
          "data": {
            "text/plain": [
              "Text(20.5, 0.5, 'Predicted')"
            ]
          },
          "metadata": {
            "tags": []
          },
          "execution_count": 100
        },
        {
          "output_type": "display_data",
          "data": {
            "image/png": "[encoded data removed]",
            "text/plain": [
              "<Figure size 432x288 with 1 Axes>"
            ]
          },
          "metadata": {
            "tags": []
          }
        }
      ]
    },
    {
      "cell_type": "markdown",
      "metadata": {
        "id": "g6fPwY-pwxje",
        "colab_type": "text"
      },
      "source": [
        "**4.Classification Report**"
      ]
    },
    {
      "cell_type": "code",
      "metadata": {
        "id": "vxB-lBkJoJ3o",
        "colab_type": "code",
        "colab": {
          "base_uri": "https://localhost:8080/",
          "height": 191
        },
        "outputId": "e1883ec2-4523-44d2-dc54-ab5078570788"
      },
      "source": [
        "from sklearn.metrics import classification_report\n",
        "\n",
        "print(classification_report(y_test, pred))\n"
      ],
      "execution_count": 108,
      "outputs": [
        {
          "output_type": "stream",
          "text": [
            "              precision    recall  f1-score   support\n",
            "\n",
            "           0       0.60      0.88      0.71        17\n",
            "           1       0.94      0.77      0.85        44\n",
            "\n",
            "    accuracy                           0.80        61\n",
            "   macro avg       0.77      0.83      0.78        61\n",
            "weighted avg       0.85      0.80      0.81        61\n",
            "\n"
          ],
          "name": "stdout"
        }
      ]
    },
    {
      "cell_type": "markdown",
      "metadata": {
        "id": "vFAp0Y_Bykp-",
        "colab_type": "text"
      },
      "source": [
        "# Evaluate Regression \n",
        "\n",
        "\n",
        "1.   R^2 (pronounced r-squared) / cofficient of determinant\n",
        "2.   Mean absolute Error\n",
        "3.   Mean Squared Error\n",
        "\n"
      ]
    },
    {
      "cell_type": "code",
      "metadata": {
        "id": "TD0r4HOmyjOq",
        "colab_type": "code",
        "colab": {
          "base_uri": "https://localhost:8080/",
          "height": 36
        },
        "outputId": "f7781f15-6220-4afd-9d10-5fe81d424160"
      },
      "source": [
        "from sklearn.ensemble import RandomForestRegressor\n",
        "from sklearn.datasets import load_boston\n",
        "from sklearn.model_selection import train_test_split\n",
        "\n",
        "boston = load_boston()\n",
        "boston.keys()"
      ],
      "execution_count": 127,
      "outputs": [
        {
          "output_type": "execute_result",
          "data": {
            "text/plain": [
              "dict_keys(['data', 'target', 'feature_names', 'DESCR', 'filename'])"
            ]
          },
          "metadata": {
            "tags": []
          },
          "execution_count": 127
        }
      ]
    },
    {
      "cell_type": "code",
      "metadata": {
        "id": "_pVQaCcC089w",
        "colab_type": "code",
        "colab": {
          "base_uri": "https://localhost:8080/",
          "height": 36
        },
        "outputId": "da63b3cd-09bf-42d2-d068-aac06611033f"
      },
      "source": [
        "data = pd.DataFrame(boston['data'], columns= boston['feature_names'])\n",
        "data['target'] = boston['target']\n",
        "\n",
        "X = data.drop('target', axis = 1)\n",
        "Y = data['target']\n",
        "\n",
        "x_train, x_test, y_train, y_test = train_test_split(X, Y, test_size = 0.2)\n",
        "\n",
        "\n",
        "model = RandomForestRegressor()\n",
        "model.fit(x_train, y_train)\n",
        "model.score(x_test, y_test)"
      ],
      "execution_count": 137,
      "outputs": [
        {
          "output_type": "execute_result",
          "data": {
            "text/plain": [
              "0.9054433196131438"
            ]
          },
          "metadata": {
            "tags": []
          },
          "execution_count": 137
        }
      ]
    },
    {
      "cell_type": "code",
      "metadata": {
        "id": "B2nvjDXw1zMF",
        "colab_type": "code",
        "colab": {}
      },
      "source": [
        ""
      ],
      "execution_count": 0,
      "outputs": []
    }
  ]
}