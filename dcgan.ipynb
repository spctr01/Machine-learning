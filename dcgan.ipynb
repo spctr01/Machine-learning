{
  "nbformat": 4,
  "nbformat_minor": 0,
  "metadata": {
    "colab": {
      "name": "dcgan.ipynb",
      "provenance": [],
      "collapsed_sections": [],
      "authorship_tag": "ABX9TyNu4P/A2wzzVKWye3A0PV8f",
      "include_colab_link": true
    },
    "kernelspec": {
      "name": "python3",
      "display_name": "Python 3"
    },
    "accelerator": "GPU"
  },
  "cells": [
    {
      "cell_type": "markdown",
      "metadata": {
        "id": "view-in-github",
        "colab_type": "text"
      },
      "source": [
        "<a href=\"https://colab.research.google.com/github/spctr01/DCGAN/blob/master/dcgan.ipynb\" target=\"_parent\"><img src=\"https://colab.research.google.com/assets/colab-badge.svg\" alt=\"Open In Colab\"/></a>"
      ]
    },
    {
      "cell_type": "code",
      "metadata": {
        "id": "sX-IIIqzDx-K",
        "colab_type": "code",
        "colab": {}
      },
      "source": [
        "#importing lib\n",
        "from __future__ import print_function\n",
        "import torch\n",
        "import torch.nn as nn\n",
        "import matplotlib.pyplot as plt\n",
        "\n",
        "\n",
        "device = torch.device('cuda' if torch.cuda.is_available() else 'cpu')\n",
        "print(device)\n",
        "torch.manual_seed(999)"
      ],
      "execution_count": 0,
      "outputs": []
    },
    {
      "cell_type": "code",
      "metadata": {
        "id": "3-8jzCL2FPVK",
        "colab_type": "code",
        "colab": {}
      },
      "source": [
        "#transforming data , create dataset and dataloader\n",
        "import torchvision.transforms as transforms\n",
        "import torchvision.datasets \n",
        "import torch.utils.data\n",
        "\n",
        "data_path = 'celeba'\n",
        "transform = transforms.Compose([\n",
        "                               transforms.Resize(64),\n",
        "                                transform.ToTensor(),\n",
        "                                transforms.Normalize((0.5,0.5,0.5),(0.5,0.5,0.5)\n",
        "                              ])\n",
        "                                \n",
        "dataset = datasets.ImageLoader(root = data_path,transform= transform)\n",
        "datloader = torch.utils.data.DataLoader(datset , batch_Size = 100, shuffle = True, num_worker= 5)\n"
      ],
      "execution_count": 0,
      "outputs": []
    },
    {
      "cell_type": "code",
      "metadata": {
        "id": "tzRhOeLWFPmV",
        "colab_type": "code",
        "colab": {}
      },
      "source": [
        "#showing some examples of data\n"
      ],
      "execution_count": 0,
      "outputs": []
    },
    {
      "cell_type": "code",
      "metadata": {
        "id": "6ZOMNKgOIf1V",
        "colab_type": "code",
        "colab": {}
      },
      "source": [
        "# creating Generator"
      ],
      "execution_count": 0,
      "outputs": []
    },
    {
      "cell_type": "code",
      "metadata": {
        "id": "WjEOqr9bJXPq",
        "colab_type": "code",
        "colab": {}
      },
      "source": [
        "#creating discriminator"
      ],
      "execution_count": 0,
      "outputs": []
    },
    {
      "cell_type": "code",
      "metadata": {
        "id": "ME-oZEpNJXbb",
        "colab_type": "code",
        "colab": {}
      },
      "source": [
        "#custom weights for genrator and discriminatr"
      ],
      "execution_count": 0,
      "outputs": []
    },
    {
      "cell_type": "code",
      "metadata": {
        "id": "6iFYLOr8JXpP",
        "colab_type": "code",
        "colab": {}
      },
      "source": [
        "#loss function and optimizer"
      ],
      "execution_count": 0,
      "outputs": []
    },
    {
      "cell_type": "code",
      "metadata": {
        "id": "qkAABaYdJWuB",
        "colab_type": "code",
        "colab": {}
      },
      "source": [
        "#training"
      ],
      "execution_count": 0,
      "outputs": []
    }
  ]
}