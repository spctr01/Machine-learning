{
  "nbformat": 4,
  "nbformat_minor": 0,
  "metadata": {
    "colab": {
      "name": "heart_disease(RandomForest).ipynb",
      "provenance": [],
      "authorship_tag": "ABX9TyOc1S9egHKzTsKREeyHBK7R",
      "include_colab_link": true
    },
    "kernelspec": {
      "name": "python3",
      "display_name": "Python 3"
    }
  },
  "cells": [
    {
      "cell_type": "markdown",
      "metadata": {
        "id": "view-in-github",
        "colab_type": "text"
      },
      "source": [
        "<a href=\"https://colab.research.google.com/github/spctr01/Machine-learning/blob/master/heart_disease(RandomForest).ipynb\" target=\"_parent\"><img src=\"https://colab.research.google.com/assets/colab-badge.svg\" alt=\"Open In Colab\"/></a>"
      ]
    },
    {
      "cell_type": "markdown",
      "metadata": {
        "id": "ZvPktUHH43vr",
        "colab_type": "text"
      },
      "source": [
        "# RandomForest to predict heart disease\n",
        "\n",
        "1. Getting data ready\n",
        "2. choosing the algorithm(random forest)\n",
        "3. fit the model (pass the data to model)\n",
        "4. Evaluate\n",
        "5. improve the model\n",
        "6. save the model & load saved model\n"
      ]
    },
    {
      "cell_type": "code",
      "metadata": {
        "id": "L6Ln53ht42nV",
        "colab_type": "code",
        "colab": {}
      },
      "source": [
        "# 1. Getting data ready\n"
      ],
      "execution_count": 0,
      "outputs": []
    }
  ]
}